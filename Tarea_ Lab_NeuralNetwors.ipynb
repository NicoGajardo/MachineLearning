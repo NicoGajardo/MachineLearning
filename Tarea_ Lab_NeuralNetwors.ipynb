{
  "cells": [
    {
      "cell_type": "markdown",
      "metadata": {
        "id": "view-in-github",
        "colab_type": "text"
      },
      "source": [
        "<a href=\"https://colab.research.google.com/github/NicoGajardo/MachineLearning/blob/main/Lab_NeuralNetwors_Desarrollo.ipynb\" target=\"_parent\"><img src=\"https://colab.research.google.com/assets/colab-badge.svg\" alt=\"Open In Colab\"/></a>"
      ]
    },
    {
      "cell_type": "markdown",
      "id": "0e566d1d",
      "metadata": {
        "id": "0e566d1d"
      },
      "source": [
        "\n",
        "# Laboratorio: Red Neuronal con MNIST  \n",
        "**Curso:** Machine Learning  \n",
        "**Total puntos:** 10\n",
        "\n",
        "**Objetivo:** Implementar una red neuronal simple para clasificar dígitos escritos a mano del conjunto de datos MNIST utilizando Python y Keras.\n"
      ]
    },
    {
      "cell_type": "markdown",
      "id": "d6ff2177",
      "metadata": {
        "id": "d6ff2177"
      },
      "source": [
        "\n",
        "## Paso 1: Cargar el conjunto de datos MNIST (1 punto)\n",
        "\n",
        "Ejecuta el siguiente bloque para descargar y explorar el conjunto de datos.\n"
      ]
    },
    {
      "cell_type": "code",
      "execution_count": 10,
      "id": "7c659575",
      "metadata": {
        "colab": {
          "base_uri": "https://localhost:8080/"
        },
        "id": "7c659575",
        "outputId": "4b6f6e97-1db0-4987-bad0-5d59da2c93e8"
      },
      "outputs": [
        {
          "output_type": "stream",
          "name": "stdout",
          "text": [
            "Tamaño del set de entrenamiento: (60000, 28, 28)\n",
            "Tamaño del set de test: (10000, 28, 28)\n"
          ]
        }
      ],
      "source": [
        "from tensorflow.keras.datasets import mnist\n",
        "\n",
        "# Cargar datos\n",
        "(x_train, y_train), (x_test, y_test) = mnist.load_data()\n",
        "\n",
        "print(\"Tamaño del set de entrenamiento:\", x_train.shape)\n",
        "print(\"Tamaño del set de test:\", x_test.shape)\n"
      ]
    },
    {
      "cell_type": "markdown",
      "id": "8c2895d0",
      "metadata": {
        "id": "8c2895d0"
      },
      "source": [
        "\n",
        "## Paso 2: Visualizar ejemplos del dataset (1 punto)\n",
        "\n",
        "✏️ **Slot para completar:** Visualiza al menos 5 imágenes con sus etiquetas utilizando `matplotlib.pyplot.imshow()`.\n"
      ]
    },
    {
      "cell_type": "code",
      "source": [
        "import matplotlib.pyplot as plt\n",
        "\n",
        "plt.figure(figsize=(10, 4))\n",
        "for i in range(5):\n",
        "    plt.subplot(1, 5, i + 1)\n",
        "    plt.imshow(x_train[i], cmap='gray')\n",
        "    plt.title(f\"Label: {y_train[i]}\")\n",
        "    plt.axis('off')\n",
        "plt.show()"
      ],
      "metadata": {
        "colab": {
          "base_uri": "https://localhost:8080/",
          "height": 192
        },
        "id": "Cojfx5nnTH9z",
        "outputId": "f4005348-877c-427c-c497-17f8eb42c960"
      },
      "id": "Cojfx5nnTH9z",
      "execution_count": 11,
      "outputs": [
        {
          "output_type": "display_data",
          "data": {
            "text/plain": [
              "<Figure size 1000x400 with 5 Axes>"
            ],
            "image/png": "[encoded data removed]"
          },
          "metadata": {}
        }
      ]
    },
    {
      "cell_type": "markdown",
      "id": "9e5bc3a8",
      "metadata": {
        "id": "9e5bc3a8"
      },
      "source": [
        "\n",
        "## Paso 3: Preprocesamiento (1 punto)\n",
        "\n",
        "✏️ **Slot para completar:**\n",
        "- Normaliza las imágenes (divide por 255.0).\n",
        "- Aplana cada imagen a un vector de 784 valores.\n",
        "- Codifica las etiquetas con `to_categorical`.\n"
      ]
    },
    {
      "cell_type": "code",
      "source": [
        "from tensorflow.keras.utils import to_categorical\n",
        "\n",
        "x_train = x_train.astype('float32') / 255.0\n",
        "x_test = x_test.astype('float32') / 255.0\n",
        "\n",
        "x_train = x_train.reshape((x_train.shape[0], 784))\n",
        "x_test = x_test.reshape((x_test.shape[0], 784))\n",
        "\n",
        "y_train = to_categorical(y_train)\n",
        "y_test = to_categorical(y_test)\n",
        "\n",
        "print(\"Set de entrenamiento :\", x_train.shape)\n",
        "print(\"Etiquetas de entrenamiento:\", y_train.shape)\n",
        "\n",
        "print(\"Set de test:\", x_test.shape)\n",
        "print(\"Etiquetas de test:\", y_test.shape)"
      ],
      "metadata": {
        "colab": {
          "base_uri": "https://localhost:8080/"
        },
        "id": "NcmfQFGkUbQ1",
        "outputId": "46c171a0-39f1-4428-b47e-9d2bd9877b96"
      },
      "id": "NcmfQFGkUbQ1",
      "execution_count": 12,
      "outputs": [
        {
          "output_type": "stream",
          "name": "stdout",
          "text": [
            "Set de entrenamiento : (60000, 784)\n",
            "Etiquetas de entrenamiento: (60000, 10)\n",
            "Set de test: (10000, 784)\n",
            "Etiquetas de test: (10000, 10)\n"
          ]
        }
      ]
    },
    {
      "cell_type": "markdown",
      "id": "36e5006d",
      "metadata": {
        "id": "36e5006d"
      },
      "source": [
        "\n",
        "## Paso 4: Definir la red neuronal (2 puntos)\n",
        "\n",
        "✏️ **Slot para completar:**\n",
        "- Crea un modelo `Sequential`.\n",
        "- Agrega una capa oculta con activación ReLU.\n",
        "- Agrega una capa de salida con activación Softmax.\n",
        "- Compila el modelo con `adam` y `categorical_crossentropy`.\n"
      ]
    },
    {
      "cell_type": "code",
      "source": [
        "from tensorflow.keras.models import Sequential\n",
        "from tensorflow.keras.layers import Dense\n",
        "\n",
        "model = Sequential()\n",
        "model.add(Dense(units=128, activation='relu', input_shape=(784,)))\n",
        "model.add(Dense(units=10, activation='softmax'))\n",
        "\n",
        "model.compile(optimizer='adam', loss='categorical_crossentropy', metrics=['accuracy'])\n",
        "model.summary()"
      ],
      "metadata": {
        "colab": {
          "base_uri": "https://localhost:8080/",
          "height": 248
        },
        "id": "_lzw_3zFVAR0",
        "outputId": "86820524-8393-4314-be37-c468b81d38ad"
      },
      "id": "_lzw_3zFVAR0",
      "execution_count": 13,
      "outputs": [
        {
          "output_type": "stream",
          "name": "stderr",
          "text": [
            "/usr/local/lib/python3.11/dist-packages/keras/src/layers/core/dense.py:87: UserWarning: Do not pass an `input_shape`/`input_dim` argument to a layer. When using Sequential models, prefer using an `Input(shape)` object as the first layer in the model instead.\n",
            "  super().__init__(activity_regularizer=activity_regularizer, **kwargs)\n"
          ]
        },
        {
          "output_type": "display_data",
          "data": {
            "text/plain": [
              "\u001b[1mModel: \"sequential\"\u001b[0m\n"
            ],
            "text/html": [
              "<pre style=\"white-space:pre;overflow-x:auto;line-height:normal;font-family:Menlo,'DejaVu Sans Mono',consolas,'Courier New',monospace\"><span style=\"font-weight: bold\">Model: \"sequential\"</span>\n",
              "</pre>\n"
            ]
          },
          "metadata": {}
        },
        {
          "output_type": "display_data",
          "data": {
            "text/plain": [
              "┏━━━━━━━━━━━━━━━━━━━━━━━━━━━━━━━━━┳━━━━━━━━━━━━━━━━━━━━━━━━┳━━━━━━━━━━━━━━━┓\n",
              "┃\u001b[1m \u001b[0m\u001b[1mLayer (type)                   \u001b[0m\u001b[1m \u001b[0m┃\u001b[1m \u001b[0m\u001b[1mOutput Shape          \u001b[0m\u001b[1m \u001b[0m┃\u001b[1m \u001b[0m\u001b[1m      Param #\u001b[0m\u001b[1m \u001b[0m┃\n",
              "┡━━━━━━━━━━━━━━━━━━━━━━━━━━━━━━━━━╇━━━━━━━━━━━━━━━━━━━━━━━━╇━━━━━━━━━━━━━━━┩\n",
              "│ dense (\u001b[38;5;33mDense\u001b[0m)                   │ (\u001b[38;5;45mNone\u001b[0m, \u001b[38;5;34m128\u001b[0m)            │       \u001b[38;5;34m100,480\u001b[0m │\n",
              "├─────────────────────────────────┼────────────────────────┼───────────────┤\n",
              "│ dense_1 (\u001b[38;5;33mDense\u001b[0m)                 │ (\u001b[38;5;45mNone\u001b[0m, \u001b[38;5;34m10\u001b[0m)             │         \u001b[38;5;34m1,290\u001b[0m │\n",
              "└─────────────────────────────────┴────────────────────────┴───────────────┘\n"
            ],
            "text/html": [
              "<pre style=\"white-space:pre;overflow-x:auto;line-height:normal;font-family:Menlo,'DejaVu Sans Mono',consolas,'Courier New',monospace\">┏━━━━━━━━━━━━━━━━━━━━━━━━━━━━━━━━━┳━━━━━━━━━━━━━━━━━━━━━━━━┳━━━━━━━━━━━━━━━┓\n",
              "┃<span style=\"font-weight: bold\"> Layer (type)                    </span>┃<span style=\"font-weight: bold\"> Output Shape           </span>┃<span style=\"font-weight: bold\">       Param # </span>┃\n",
              "┡━━━━━━━━━━━━━━━━━━━━━━━━━━━━━━━━━╇━━━━━━━━━━━━━━━━━━━━━━━━╇━━━━━━━━━━━━━━━┩\n",
              "│ dense (<span style=\"color: #0087ff; text-decoration-color: #0087ff\">Dense</span>)                   │ (<span style=\"color: #00d7ff; text-decoration-color: #00d7ff\">None</span>, <span style=\"color: #00af00; text-decoration-color: #00af00\">128</span>)            │       <span style=\"color: #00af00; text-decoration-color: #00af00\">100,480</span> │\n",
              "├─────────────────────────────────┼────────────────────────┼───────────────┤\n",
              "│ dense_1 (<span style=\"color: #0087ff; text-decoration-color: #0087ff\">Dense</span>)                 │ (<span style=\"color: #00d7ff; text-decoration-color: #00d7ff\">None</span>, <span style=\"color: #00af00; text-decoration-color: #00af00\">10</span>)             │         <span style=\"color: #00af00; text-decoration-color: #00af00\">1,290</span> │\n",
              "└─────────────────────────────────┴────────────────────────┴───────────────┘\n",
              "</pre>\n"
            ]
          },
          "metadata": {}
        },
        {
          "output_type": "display_data",
          "data": {
            "text/plain": [
              "\u001b[1m Total params: \u001b[0m\u001b[38;5;34m101,770\u001b[0m (397.54 KB)\n"
            ],
            "text/html": [
              "<pre style=\"white-space:pre;overflow-x:auto;line-height:normal;font-family:Menlo,'DejaVu Sans Mono',consolas,'Courier New',monospace\"><span style=\"font-weight: bold\"> Total params: </span><span style=\"color: #00af00; text-decoration-color: #00af00\">101,770</span> (397.54 KB)\n",
              "</pre>\n"
            ]
          },
          "metadata": {}
        },
        {
          "output_type": "display_data",
          "data": {
            "text/plain": [
              "\u001b[1m Trainable params: \u001b[0m\u001b[38;5;34m101,770\u001b[0m (397.54 KB)\n"
            ],
            "text/html": [
              "<pre style=\"white-space:pre;overflow-x:auto;line-height:normal;font-family:Menlo,'DejaVu Sans Mono',consolas,'Courier New',monospace\"><span style=\"font-weight: bold\"> Trainable params: </span><span style=\"color: #00af00; text-decoration-color: #00af00\">101,770</span> (397.54 KB)\n",
              "</pre>\n"
            ]
          },
          "metadata": {}
        },
        {
          "output_type": "display_data",
          "data": {
            "text/plain": [
              "\u001b[1m Non-trainable params: \u001b[0m\u001b[38;5;34m0\u001b[0m (0.00 B)\n"
            ],
            "text/html": [
              "<pre style=\"white-space:pre;overflow-x:auto;line-height:normal;font-family:Menlo,'DejaVu Sans Mono',consolas,'Courier New',monospace\"><span style=\"font-weight: bold\"> Non-trainable params: </span><span style=\"color: #00af00; text-decoration-color: #00af00\">0</span> (0.00 B)\n",
              "</pre>\n"
            ]
          },
          "metadata": {}
        }
      ]
    },
    {
      "cell_type": "markdown",
      "id": "32fa8560",
      "metadata": {
        "id": "32fa8560"
      },
      "source": [
        "\n",
        "## Paso 5: Entrenar el modelo (1 punto)\n",
        "\n",
        "✏️ **Slot para completar:** Entrena el modelo con `fit` durante 5 épocas y batch size 32.\n"
      ]
    },
    {
      "cell_type": "code",
      "source": [
        "history = model.fit(x_train, y_train, epochs=5, batch_size=32, validation_data=(x_test, y_test))"
      ],
      "metadata": {
        "colab": {
          "base_uri": "https://localhost:8080/"
        },
        "id": "JR2MOnGRV2v4",
        "outputId": "4ab038ef-b0db-4dd9-b298-bd6b16e6d8bd"
      },
      "id": "JR2MOnGRV2v4",
      "execution_count": 14,
      "outputs": [
        {
          "output_type": "stream",
          "name": "stdout",
          "text": [
            "Epoch 1/5\n",
            "\u001b[1m1875/1875\u001b[0m \u001b[32m━━━━━━━━━━━━━━━━━━━━\u001b[0m\u001b[37m\u001b[0m \u001b[1m10s\u001b[0m 4ms/step - accuracy: 0.8765 - loss: 0.4428 - val_accuracy: 0.9607 - val_loss: 0.1310\n",
            "Epoch 2/5\n",
            "\u001b[1m1875/1875\u001b[0m \u001b[32m━━━━━━━━━━━━━━━━━━━━\u001b[0m\u001b[37m\u001b[0m \u001b[1m11s\u001b[0m 5ms/step - accuracy: 0.9643 - loss: 0.1187 - val_accuracy: 0.9688 - val_loss: 0.1030\n",
            "Epoch 3/5\n",
            "\u001b[1m1875/1875\u001b[0m \u001b[32m━━━━━━━━━━━━━━━━━━━━\u001b[0m\u001b[37m\u001b[0m \u001b[1m11s\u001b[0m 5ms/step - accuracy: 0.9788 - loss: 0.0754 - val_accuracy: 0.9750 - val_loss: 0.0796\n",
            "Epoch 4/5\n",
            "\u001b[1m1875/1875\u001b[0m \u001b[32m━━━━━━━━━━━━━━━━━━━━\u001b[0m\u001b[37m\u001b[0m \u001b[1m11s\u001b[0m 6ms/step - accuracy: 0.9827 - loss: 0.0559 - val_accuracy: 0.9768 - val_loss: 0.0745\n",
            "Epoch 5/5\n",
            "\u001b[1m1875/1875\u001b[0m \u001b[32m━━━━━━━━━━━━━━━━━━━━\u001b[0m\u001b[37m\u001b[0m \u001b[1m9s\u001b[0m 5ms/step - accuracy: 0.9871 - loss: 0.0421 - val_accuracy: 0.9763 - val_loss: 0.0773\n"
          ]
        }
      ]
    },
    {
      "cell_type": "markdown",
      "id": "abd4ea81",
      "metadata": {
        "id": "abd4ea81"
      },
      "source": [
        "\n",
        "## Paso 6: Evaluar el modelo (1 punto)\n",
        "\n",
        "✏️ **Slot para completar:** Evalúa el modelo con `evaluate()` en el conjunto de prueba.\n"
      ]
    },
    {
      "cell_type": "code",
      "source": [
        "loss, accuracy = model.evaluate(x_test, y_test, verbose=0)\n",
        "\n",
        "print(\"Pérdida en el conjunto de prueba:\", loss)\n",
        "print(\"Precisión en el conjunto de prueba:\", accuracy)"
      ],
      "metadata": {
        "colab": {
          "base_uri": "https://localhost:8080/"
        },
        "id": "1kNF83YmWL3I",
        "outputId": "319e2c21-709e-48bb-ddd9-d01a35d763b6"
      },
      "id": "1kNF83YmWL3I",
      "execution_count": 16,
      "outputs": [
        {
          "output_type": "stream",
          "name": "stdout",
          "text": [
            "Pérdida en el conjunto de prueba: 0.07734415680170059\n",
            "Precisión en el conjunto de prueba: 0.9763000011444092\n"
          ]
        }
      ]
    },
    {
      "cell_type": "markdown",
      "id": "7b5a1fd0",
      "metadata": {
        "id": "7b5a1fd0"
      },
      "source": [
        "## Preguntas de Reflexión (3 puntos en total)"
      ]
    },
    {
      "cell_type": "markdown",
      "id": "7455c9fb",
      "metadata": {
        "id": "7455c9fb"
      },
      "source": [
        "### 1. ¿Qué ventaja observas al usar codificación one-hot para las etiquetas? (0.5 punto)"
      ]
    },
    {
      "cell_type": "code",
      "source": [
        "# Para el dataset MNIST, la principal ventaja de esta codificación es que el modelo evite interpretar las variables con una\n",
        "# relación jerarquica u ordinal, lo cual no es el caso con la base MNIST con los dígitos del 0 al 9."
      ],
      "metadata": {
        "colab": {
          "base_uri": "https://localhost:8080/",
          "height": 106
        },
        "id": "jS9CrkClWagA",
        "outputId": "0440e244-622f-4080-ca2b-4b2dc091f074"
      },
      "id": "jS9CrkClWagA",
      "execution_count": 17,
      "outputs": [
        {
          "output_type": "error",
          "ename": "SyntaxError",
          "evalue": "invalid syntax (<ipython-input-17-dfa21d4b3a01>, line 1)",
          "traceback": [
            "\u001b[0;36m  File \u001b[0;32m\"<ipython-input-17-dfa21d4b3a01>\"\u001b[0;36m, line \u001b[0;32m1\u001b[0m\n\u001b[0;31m    Para el dataset MNIST, la principal ventaja de esta codificación es que el modelo evite interpretar las variables con una\u001b[0m\n\u001b[0m         ^\u001b[0m\n\u001b[0;31mSyntaxError\u001b[0m\u001b[0;31m:\u001b[0m invalid syntax\n"
          ]
        }
      ]
    },
    {
      "cell_type": "markdown",
      "id": "dbd9f5f9",
      "metadata": {
        "id": "dbd9f5f9"
      },
      "source": [
        "### 2. ¿Qué ocurre si aumentas o disminuyes el número de neuronas ocultas? (0.5 punto)"
      ]
    },
    {
      "cell_type": "code",
      "execution_count": null,
      "id": "998b05b8",
      "metadata": {
        "id": "998b05b8"
      },
      "outputs": [],
      "source": [
        "# Aumentar la cantidad de neuronas resulta en una mayor capacidad para aprender patrones complejos y relaciones más intrincadas\n",
        "# entre los datos de entrada y salida. Al mismo tiempo, si se aumenta demasiado, la red puede volverse demasiado compleja y\n",
        "# susceptible al overfitting,\n",
        "\n",
        "# Si disminuyes el número de neuronas en la capa oculta, la capacidad de aprendizaje del modelo se reduce. Una capa oculta con\n",
        "# muy pocas neuronas puede no ser capaz todas las relaciones importantes en el entrenamiento, resultando en un bajo rendimiento\n",
        "# de clasificación."
      ]
    },
    {
      "cell_type": "markdown",
      "id": "2a1bf432",
      "metadata": {
        "id": "2a1bf432"
      },
      "source": [
        "### 3. ¿Qué alternativa propondrías al optimizador `adam` y por qué? (0.5 punto)"
      ]
    },
    {
      "cell_type": "code",
      "execution_count": null,
      "id": "d57b11e7",
      "metadata": {
        "id": "d57b11e7"
      },
      "outputs": [],
      "source": [
        "Una alternativa que propondría al optimizador `adam` es SGD con Momentum** (Stochastic Gradient Descent con Momentum).\n",
        "\n",
        "Aunque `adam` es un optimizador muy popular y generalmente eficiente, hay situaciones donde **SGD con Momentum** puede ser una buena\n",
        "alternativa e incluso superar a `adam`:\n",
        "\n",
        "1.  SGD con Momentum es conceptualmente más simple que Adam. Adam mantiene estimaciones exponenciales promedio de los gradientes y\n",
        "los gradientes cuadrados, lo que añade complejidad. SGD con Momentum simplemente utiliza un promedio móvil de los gradientes para\n",
        "acelerar el descenso en la dirección correcta y amortiguar las oscilaciones. Esto puede dar más control al ajustar los hiperparámetros\n",
        " (tasa de aprendizaje y momentum) si se comprende bien el comportamiento del gradiente.\n",
        "\n",
        "2.  **Problemas de Convergencia en Ciertos Escenarios:** Aunque `adam` suele converger más rápido al principio del entrenamiento,\n",
        "a veces puede tener problemas para alcanzar la mejor generalización en el conjunto de prueba en comparación con SGD con Momentum,\n",
        "especialmente cuando el paisaje de la función de pérdida es complejo o no convexo. Esto puede deberse a que `adam` normaliza los\n",
        "gradientes por su varianza estimada, lo que a veces puede llevar a pasos demasiado pequeños al final del entrenamiento o a una\n",
        "convergencia a mínimos locales subóptimos.\n",
        "\n",
        "3.  **Rendimiento en Conjuntos de Datos Específicos:** En algunos conjuntos de datos y arquitecturas de redes neuronales específicas,\n",
        "SGD con Momentum ha demostrado obtener mejores resultados en términos de precisión final en el conjunto de prueba que `adam`. Esto no\n",
        "es una regla general, pero es una observación empírica en ciertas áreas, como la visión por computadora."
      ]
    },
    {
      "cell_type": "markdown",
      "id": "c56b32ea",
      "metadata": {
        "id": "c56b32ea"
      },
      "source": [
        "### 4. ¿Cómo cambia el desempeño si entrenas más épocas? ¿Cuál es el riesgo? (0.5 punto)"
      ]
    },
    {
      "cell_type": "code",
      "execution_count": null,
      "id": "424e5803",
      "metadata": {
        "id": "424e5803"
      },
      "outputs": [],
      "source": [
        "# El desempeño en el conjunto de entrenamiento generalmente mejorará o se mantendrá. Esto ya que la red neuronal tendrá más oportunidades\n",
        "# para ajustar sus pesos y sesgos. El riesgo de entrenar más épocas es el sobreajuste, lo que puede resultar en un desempeño pobre ante\n",
        "# datos nuevos sin aprender patrones generales la distribución de datos."
      ]
    },
    {
      "cell_type": "markdown",
      "id": "d79eea4a",
      "metadata": {
        "id": "d79eea4a"
      },
      "source": [
        "### 5. ¿Por qué es importante dividir en conjuntos de entrenamiento y prueba? (1 punto)"
      ]
    },
    {
      "cell_type": "code",
      "execution_count": null,
      "id": "7e37c659",
      "metadata": {
        "id": "7e37c659"
      },
      "outputs": [],
      "source": [
        "# La razón principal es obtener una evaluación objetiva del desempeño del modelo con datos no vistos previamente o que no fueron parte de su entrenamiento.\n",
        "# Esta división permite:\n",
        "\n",
        "# 1.  Evaluar la capacidad de analisis que le permitan al modelo hacer predicciones precisas sobre*datos nuevos que nunca ha visto.\n",
        "# 2.  Ajustar hiperparámetros de con evaluaciones cuantitativas de precisión y desempeño en las estimaciones.\n",
        "# 3.  Comparar diferentes algoritmos o modelos para una tarea específica.\n"
      ]
    }
  ],
  "metadata": {
    "colab": {
      "provenance": [],
      "include_colab_link": true
    },
    "language_info": {
      "name": "python"
    },
    "kernelspec": {
      "name": "python3",
      "display_name": "Python 3"
    }
  },
  "nbformat": 4,
  "nbformat_minor": 5
}
